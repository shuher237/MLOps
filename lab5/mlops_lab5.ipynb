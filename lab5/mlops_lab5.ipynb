{
  "nbformat": 4,
  "nbformat_minor": 0,
  "metadata": {
    "colab": {
      "provenance": []
    },
    "kernelspec": {
      "name": "python3",
      "display_name": "Python 3"
    },
    "language_info": {
      "name": "python"
    }
  },
  "cells": [
    {
      "cell_type": "code",
      "execution_count": 39,
      "metadata": {
        "id": "hmmNg4a9Feyc"
      },
      "outputs": [],
      "source": [
        "import pandas as pd\n",
        "import numpy as np\n",
        "import matplotlib.pyplot as plt\n",
        "import pickle\n",
        "from sklearn.linear_model import LinearRegression\n",
        "from sklearn.metrics import mean_squared_error, mean_absolute_error"
      ]
    },
    {
      "cell_type": "code",
      "source": [
        "output_folder = \"./\""
      ],
      "metadata": {
        "id": "QxlaW7BinpZA"
      },
      "execution_count": 92,
      "outputs": []
    },
    {
      "cell_type": "code",
      "source": [
        "n_samples = 300\n",
        "xs = np.linspace(0, 30, n_samples, endpoint=False)\n",
        "ys = xs + np.random.random(n_samples)*2 - 1\n",
        "\n",
        "np.save(f'{output_folder}X_s.npy', xs)\n",
        "np.save(f'{output_folder}Y_s.npy', ys)"
      ],
      "metadata": {
        "id": "xT8dMY_eF4Z4"
      },
      "execution_count": 41,
      "outputs": []
    },
    {
      "cell_type": "code",
      "source": [
        "plt.scatter(xs, ys)\n",
        "plt.show()"
      ],
      "metadata": {
        "colab": {
          "base_uri": "https://localhost:8080/",
          "height": 430
        },
        "id": "tawKdN-8HOgn",
        "outputId": "092173b2-39be-4fae-9d97-06e62e3b3302"
      },
      "execution_count": 42,
      "outputs": [
        {
          "output_type": "display_data",
          "data": {
            "text/plain": [
              "<Figure size 640x480 with 1 Axes>"
            ],
            "image/png": "[encoded data removed]"
          },
          "metadata": {}
        }
      ]
    },
    {
      "cell_type": "code",
      "source": [
        "model = LinearRegression()\n",
        "model.fit(xs.reshape(-1, 1), ys)"
      ],
      "metadata": {
        "colab": {
          "base_uri": "https://localhost:8080/",
          "height": 75
        },
        "id": "E8nYxAvYOw-V",
        "outputId": "0ad1ff3f-afb8-4171-e396-e82e67804843"
      },
      "execution_count": 43,
      "outputs": [
        {
          "output_type": "execute_result",
          "data": {
            "text/plain": [
              "LinearRegression()"
            ],
            "text/html": [
              "<style>#sk-container-id-4 {color: black;background-color: white;}#sk-container-id-4 pre{padding: 0;}#sk-container-id-4 div.sk-toggleable {background-color: white;}#sk-container-id-4 label.sk-toggleable__label {cursor: pointer;display: block;width: 100%;margin-bottom: 0;padding: 0.3em;box-sizing: border-box;text-align: center;}#sk-container-id-4 label.sk-toggleable__label-arrow:before {content: \"▸\";float: left;margin-right: 0.25em;color: #696969;}#sk-container-id-4 label.sk-toggleable__label-arrow:hover:before {color: black;}#sk-container-id-4 div.sk-estimator:hover label.sk-toggleable__label-arrow:before {color: black;}#sk-container-id-4 div.sk-toggleable__content {max-height: 0;max-width: 0;overflow: hidden;text-align: left;background-color: #f0f8ff;}#sk-container-id-4 div.sk-toggleable__content pre {margin: 0.2em;color: black;border-radius: 0.25em;background-color: #f0f8ff;}#sk-container-id-4 input.sk-toggleable__control:checked~div.sk-toggleable__content {max-height: 200px;max-width: 100%;overflow: auto;}#sk-container-id-4 input.sk-toggleable__control:checked~label.sk-toggleable__label-arrow:before {content: \"▾\";}#sk-container-id-4 div.sk-estimator input.sk-toggleable__control:checked~label.sk-toggleable__label {background-color: #d4ebff;}#sk-container-id-4 div.sk-label input.sk-toggleable__control:checked~label.sk-toggleable__label {background-color: #d4ebff;}#sk-container-id-4 input.sk-hidden--visually {border: 0;clip: rect(1px 1px 1px 1px);clip: rect(1px, 1px, 1px, 1px);height: 1px;margin: -1px;overflow: hidden;padding: 0;position: absolute;width: 1px;}#sk-container-id-4 div.sk-estimator {font-family: monospace;background-color: #f0f8ff;border: 1px dotted black;border-radius: 0.25em;box-sizing: border-box;margin-bottom: 0.5em;}#sk-container-id-4 div.sk-estimator:hover {background-color: #d4ebff;}#sk-container-id-4 div.sk-parallel-item::after {content: \"\";width: 100%;border-bottom: 1px solid gray;flex-grow: 1;}#sk-container-id-4 div.sk-label:hover label.sk-toggleable__label {background-color: #d4ebff;}#sk-container-id-4 div.sk-serial::before {content: \"\";position: absolute;border-left: 1px solid gray;box-sizing: border-box;top: 0;bottom: 0;left: 50%;z-index: 0;}#sk-container-id-4 div.sk-serial {display: flex;flex-direction: column;align-items: center;background-color: white;padding-right: 0.2em;padding-left: 0.2em;position: relative;}#sk-container-id-4 div.sk-item {position: relative;z-index: 1;}#sk-container-id-4 div.sk-parallel {display: flex;align-items: stretch;justify-content: center;background-color: white;position: relative;}#sk-container-id-4 div.sk-item::before, #sk-container-id-4 div.sk-parallel-item::before {content: \"\";position: absolute;border-left: 1px solid gray;box-sizing: border-box;top: 0;bottom: 0;left: 50%;z-index: -1;}#sk-container-id-4 div.sk-parallel-item {display: flex;flex-direction: column;z-index: 1;position: relative;background-color: white;}#sk-container-id-4 div.sk-parallel-item:first-child::after {align-self: flex-end;width: 50%;}#sk-container-id-4 div.sk-parallel-item:last-child::after {align-self: flex-start;width: 50%;}#sk-container-id-4 div.sk-parallel-item:only-child::after {width: 0;}#sk-container-id-4 div.sk-dashed-wrapped {border: 1px dashed gray;margin: 0 0.4em 0.5em 0.4em;box-sizing: border-box;padding-bottom: 0.4em;background-color: white;}#sk-container-id-4 div.sk-label label {font-family: monospace;font-weight: bold;display: inline-block;line-height: 1.2em;}#sk-container-id-4 div.sk-label-container {text-align: center;}#sk-container-id-4 div.sk-container {/* jupyter's `normalize.less` sets `[hidden] { display: none; }` but bootstrap.min.css set `[hidden] { display: none !important; }` so we also need the `!important` here to be able to override the default hidden behavior on the sphinx rendered scikit-learn.org. See: https://github.com/scikit-learn/scikit-learn/issues/21755 */display: inline-block !important;position: relative;}#sk-container-id-4 div.sk-text-repr-fallback {display: none;}</style><div id=\"sk-container-id-4\" class=\"sk-top-container\"><div class=\"sk-text-repr-fallback\"><pre>LinearRegression()</pre><b>In a Jupyter environment, please rerun this cell to show the HTML representation or trust the notebook. <br />On GitHub, the HTML representation is unable to render, please try loading this page with nbviewer.org.</b></div><div class=\"sk-container\" hidden><div class=\"sk-item\"><div class=\"sk-estimator sk-toggleable\"><input class=\"sk-toggleable__control sk-hidden--visually\" id=\"sk-estimator-id-4\" type=\"checkbox\" checked><label for=\"sk-estimator-id-4\" class=\"sk-toggleable__label sk-toggleable__label-arrow\">LinearRegression</label><div class=\"sk-toggleable__content\"><pre>LinearRegression()</pre></div></div></div></div></div>"
            ]
          },
          "metadata": {},
          "execution_count": 43
        }
      ]
    },
    {
      "cell_type": "markdown",
      "source": [
        "\n",
        "\n",
        "---\n",
        "\n"
      ],
      "metadata": {
        "id": "nUpGcNYKZS1d"
      }
    },
    {
      "cell_type": "code",
      "source": [
        "with open(f'{output_folder}myfile.pkl', 'wb') as output:\n",
        "    pickle.dump(model, output)"
      ],
      "metadata": {
        "id": "Ccgv245woPko"
      },
      "execution_count": 44,
      "outputs": []
    },
    {
      "cell_type": "code",
      "source": [
        "xs_2 = np.linspace(30, 40, 100, endpoint=False)\n",
        "ys_2 = xs_2 + np.random.random(100)*2 - 1\n",
        "\n",
        "np.save(f'{output_folder}X_s_2.npy', xs_2)\n",
        "np.save(f'{output_folder}Y_s_2.npy', ys_2)"
      ],
      "metadata": {
        "id": "scKbRATHS6QJ"
      },
      "execution_count": 45,
      "outputs": []
    },
    {
      "cell_type": "code",
      "source": [
        "plt.scatter(xs, ys)\n",
        "plt.show()"
      ],
      "metadata": {
        "colab": {
          "base_uri": "https://localhost:8080/",
          "height": 430
        },
        "id": "9qACgoh3YTbT",
        "outputId": "f0697dc4-a1ed-4aaf-ff7b-6dc0759ce597"
      },
      "execution_count": 46,
      "outputs": [
        {
          "output_type": "display_data",
          "data": {
            "text/plain": [
              "<Figure size 640x480 with 1 Axes>"
            ],
            "image/png": "[encoded data removed]"
          },
          "metadata": {}
        }
      ]
    },
    {
      "cell_type": "code",
      "source": [
        "with open(f'{output_folder}myfile.pkl', 'rb') as pkl_file:\n",
        "    regressor = pickle.load(pkl_file)"
      ],
      "metadata": {
        "id": "odIosAaMov2C"
      },
      "execution_count": 47,
      "outputs": []
    },
    {
      "cell_type": "code",
      "source": [
        "y_pred = regressor.predict(xs_2.reshape(-1, 1))"
      ],
      "metadata": {
        "id": "OGV923YTSVkS"
      },
      "execution_count": 53,
      "outputs": []
    },
    {
      "cell_type": "code",
      "source": [
        "#max error - 2\n",
        "print(mean_absolute_error(ys_2, y_pred))"
      ],
      "metadata": {
        "colab": {
          "base_uri": "https://localhost:8080/"
        },
        "id": "aOmMFxmKW-8s",
        "outputId": "e2962290-2d85-495e-8d61-83cd77e82732"
      },
      "execution_count": 54,
      "outputs": [
        {
          "output_type": "stream",
          "name": "stdout",
          "text": [
            "0.5426827375807226\n"
          ]
        }
      ]
    },
    {
      "cell_type": "code",
      "source": [
        "#max error - 4\n",
        "print(mean_squared_error(ys_2, y_pred))"
      ],
      "metadata": {
        "colab": {
          "base_uri": "https://localhost:8080/"
        },
        "id": "N-PinXZNVjE5",
        "outputId": "e847aa9f-6ba7-4d3e-fee3-cd7d020ed134"
      },
      "execution_count": 55,
      "outputs": [
        {
          "output_type": "stream",
          "name": "stdout",
          "text": [
            "0.3709019265037853\n"
          ]
        }
      ]
    },
    {
      "cell_type": "markdown",
      "source": [
        "\n",
        "\n",
        "---\n",
        "\n"
      ],
      "metadata": {
        "id": "BAem35LiZQz9"
      }
    },
    {
      "cell_type": "code",
      "source": [
        "xs_3 = np.linspace(40, 50, 100, endpoint=False)\n",
        "ys_3 = xs_3 + np.random.random(100)*2 - 1\n",
        "\n",
        "\n",
        "np.save(f'{output_folder}X_s_3.npy', xs_3)\n",
        "np.save(f'{output_folder}Y_s_3.npy', ys_3)"
      ],
      "metadata": {
        "id": "Y7KCP7P1Xlmo"
      },
      "execution_count": 64,
      "outputs": []
    },
    {
      "cell_type": "code",
      "source": [
        "plt.scatter(xs_3, ys_3)\n",
        "plt.show()"
      ],
      "metadata": {
        "colab": {
          "base_uri": "https://localhost:8080/",
          "height": 430
        },
        "id": "905j-gI5YdUB",
        "outputId": "00f01a5c-36cb-4897-990e-ee41c159512e"
      },
      "execution_count": 59,
      "outputs": [
        {
          "output_type": "display_data",
          "data": {
            "text/plain": [
              "<Figure size 640x480 with 1 Axes>"
            ],
            "image/png": "[encoded data removed]"
          },
          "metadata": {}
        }
      ]
    },
    {
      "cell_type": "code",
      "source": [
        "y_pred_2 = regressor.predict(xs_3.reshape(-1, 1))"
      ],
      "metadata": {
        "id": "T4KBQ2qZXlmp"
      },
      "execution_count": 60,
      "outputs": []
    },
    {
      "cell_type": "code",
      "source": [
        "mean_squared_error(ys_3, y_pred_2)"
      ],
      "metadata": {
        "colab": {
          "base_uri": "https://localhost:8080/"
        },
        "outputId": "4a87f6ee-d633-4edb-989e-6824e4b792ee",
        "id": "UhPeIOtGXlmq"
      },
      "execution_count": 61,
      "outputs": [
        {
          "output_type": "execute_result",
          "data": {
            "text/plain": [
              "0.3158620585188585"
            ]
          },
          "metadata": {},
          "execution_count": 61
        }
      ]
    },
    {
      "cell_type": "code",
      "source": [
        "mean_absolute_error(ys_3, y_pred_2)"
      ],
      "metadata": {
        "colab": {
          "base_uri": "https://localhost:8080/"
        },
        "outputId": "518c44b8-6975-4142-e432-981b0bbd11b5",
        "id": "iycAWYwyXlmr"
      },
      "execution_count": 62,
      "outputs": [
        {
          "output_type": "execute_result",
          "data": {
            "text/plain": [
              "0.4721364566640707"
            ]
          },
          "metadata": {},
          "execution_count": 62
        }
      ]
    },
    {
      "cell_type": "markdown",
      "source": [
        "\n",
        "\n",
        "---\n",
        "\n"
      ],
      "metadata": {
        "id": "sH2wXG7EZOPN"
      }
    },
    {
      "cell_type": "code",
      "source": [
        "xs_err = np.linspace(50, 60, 100, endpoint=False)\n",
        "ys_err = xs_err + np.random.random(100)*2 - 1\n",
        "ys_err[30:50] *= 1.5\n",
        "\n",
        "np.save(f'{output_folder}X_s_err.npy', xs_err)\n",
        "np.save(f'{output_folder}Y_s_err.npy', ys_err)"
      ],
      "metadata": {
        "id": "0xHKJ6n2XnXf"
      },
      "execution_count": 65,
      "outputs": []
    },
    {
      "cell_type": "code",
      "source": [
        "plt.scatter(xs_err, ys_err)\n",
        "plt.show()"
      ],
      "metadata": {
        "colab": {
          "base_uri": "https://localhost:8080/",
          "height": 430
        },
        "id": "GpTqupOBX4Q7",
        "outputId": "e937a8e7-7b7b-4ec9-db93-491b61421bdf"
      },
      "execution_count": 66,
      "outputs": [
        {
          "output_type": "display_data",
          "data": {
            "text/plain": [
              "<Figure size 640x480 with 1 Axes>"
            ],
            "image/png": "[encoded data removed]"
          },
          "metadata": {}
        }
      ]
    },
    {
      "cell_type": "code",
      "source": [
        "y_pred_3 = regressor.predict(xs_err.reshape(-1, 1))"
      ],
      "metadata": {
        "id": "IbGOO8d6XnXg"
      },
      "execution_count": 67,
      "outputs": []
    },
    {
      "cell_type": "code",
      "source": [
        "mean_squared_error(ys_err, y_pred_3)"
      ],
      "metadata": {
        "colab": {
          "base_uri": "https://localhost:8080/"
        },
        "outputId": "7d84cf9f-1de0-4c49-b55a-333995650295",
        "id": "qDJg4u8UXnXh"
      },
      "execution_count": 68,
      "outputs": [
        {
          "output_type": "execute_result",
          "data": {
            "text/plain": [
              "144.90362562704283"
            ]
          },
          "metadata": {},
          "execution_count": 68
        }
      ]
    },
    {
      "cell_type": "code",
      "source": [
        "mean_absolute_error(ys_err, y_pred_3)"
      ],
      "metadata": {
        "colab": {
          "base_uri": "https://localhost:8080/"
        },
        "outputId": "f5dfac80-d0f8-40fc-e11a-e4ad9f6bf279",
        "id": "5OQ8OI8sXnXh"
      },
      "execution_count": 69,
      "outputs": [
        {
          "output_type": "execute_result",
          "data": {
            "text/plain": [
              "5.792626940334004"
            ]
          },
          "metadata": {},
          "execution_count": 69
        }
      ]
    },
    {
      "cell_type": "code",
      "source": [
        "%%writefile test1.py\n",
        "\n",
        "import pytest\n",
        "import numpy as np\n",
        "import pickle\n",
        "from sklearn.metrics import mean_squared_error, mean_absolute_error\n",
        "\n",
        "output_folder = \"./\"\n",
        "\n",
        "@pytest.fixture()\n",
        "def init_data():\n",
        "\n",
        "  vec11 = np.load(f'{output_folder}X_s_2.npy')\n",
        "  vec12 = np.load(f'{output_folder}Y_s_2.npy')\n",
        "  vec21 = np.load(f'{output_folder}X_s_3.npy')\n",
        "  vec22 = np.load(f'{output_folder}Y_s_3.npy')\n",
        "  vec31 = np.load(f'{output_folder}X_s_err.npy')\n",
        "  vec32 = np.load(f'{output_folder}Y_s_err.npy')\n",
        "\n",
        "  return vec11, vec12, vec21, vec22, vec31, vec32\n",
        "\n",
        "def test1(init_data):\n",
        "  with open(f'{output_folder}myfile.pkl', 'rb') as pkl_file:\n",
        "    regressor = pickle.load(pkl_file)\n",
        "    y_pred = regressor.predict(init_data[0].reshape(-1, 1))\n",
        "    assert mean_absolute_error(init_data[1], y_pred) <= 2\n",
        "\n",
        "def test2(init_data):\n",
        "  with open(f'{output_folder}myfile.pkl', 'rb') as pkl_file:\n",
        "    regressor = pickle.load(pkl_file)\n",
        "    y_pred = regressor.predict(init_data[2].reshape(-1, 1))\n",
        "    assert mean_absolute_error(init_data[3], y_pred) <= 2\n",
        "\n",
        "def test3(init_data):\n",
        "  with open(f'{output_folder}myfile.pkl', 'rb') as pkl_file:\n",
        "    regressor = pickle.load(pkl_file)\n",
        "    y_pred = regressor.predict(init_data[4].reshape(-1, 1))\n",
        "    assert mean_absolute_error(init_data[5], y_pred) <= 2"
      ],
      "metadata": {
        "colab": {
          "base_uri": "https://localhost:8080/"
        },
        "id": "dBf0BiIvyshf",
        "outputId": "2b74aaf6-1d49-47b7-b15f-00b83d6f9e93"
      },
      "execution_count": 107,
      "outputs": [
        {
          "output_type": "stream",
          "name": "stdout",
          "text": [
            "Overwriting test1.py\n"
          ]
        }
      ]
    },
    {
      "cell_type": "code",
      "source": [
        "!pytest -v test1.py"
      ],
      "metadata": {
        "colab": {
          "base_uri": "https://localhost:8080/"
        },
        "id": "2B0aOHk_tDSS",
        "outputId": "d910bc1e-59be-4f31-858b-9e710bcc6c4c"
      },
      "execution_count": 109,
      "outputs": [
        {
          "output_type": "stream",
          "name": "stdout",
          "text": [
            "\u001b[1m============================= test session starts ==============================\u001b[0m\n",
            "platform linux -- Python 3.10.12, pytest-7.4.1, pluggy-1.3.0 -- /usr/bin/python3\n",
            "cachedir: .pytest_cache\n",
            "rootdir: /content\n",
            "plugins: anyio-3.7.1\n",
            "collected 3 items                                                              \u001b[0m\n",
            "\n",
            "test1.py::test1 \u001b[32mPASSED\u001b[0m\u001b[32m                                                   [ 33%]\u001b[0m\n",
            "test1.py::test2 \u001b[32mPASSED\u001b[0m\u001b[32m                                                   [ 66%]\u001b[0m\n",
            "test1.py::test3 \u001b[31mFAILED\u001b[0m\u001b[31m                                                   [100%]\u001b[0m\n",
            "\n",
            "=================================== FAILURES ===================================\n",
            "\u001b[31m\u001b[1m____________________________________ test3 _____________________________________\u001b[0m\n",
            "\n",
            "init_data = (array([30. , 30.1, 30.2, 30.3, 30.4, 30.5, 30.6, 30.7, 30.8, 30.9, 31. ,\n",
            "       31.1, 31.2, 31.3, 31.4, 31.5, 31.6, 3...67874, 59.96581123, 59.9571519 , 60.31637544,\n",
            "       59.26144097, 59.68333131, 58.81468854, 59.63190671, 60.46680394]))\n",
            "\n",
            "    \u001b[94mdef\u001b[39;49;00m \u001b[92mtest3\u001b[39;49;00m(init_data):\u001b[90m\u001b[39;49;00m\n",
            "      \u001b[94mwith\u001b[39;49;00m \u001b[96mopen\u001b[39;49;00m(\u001b[33mf\u001b[39;49;00m\u001b[33m'\u001b[39;49;00m\u001b[33m{\u001b[39;49;00moutput_folder\u001b[33m}\u001b[39;49;00m\u001b[33mmyfile.pkl\u001b[39;49;00m\u001b[33m'\u001b[39;49;00m, \u001b[33m'\u001b[39;49;00m\u001b[33mrb\u001b[39;49;00m\u001b[33m'\u001b[39;49;00m) \u001b[94mas\u001b[39;49;00m pkl_file:\u001b[90m\u001b[39;49;00m\n",
            "        regressor = pickle.load(pkl_file)\u001b[90m\u001b[39;49;00m\n",
            "        y_pred = regressor.predict(init_data[\u001b[94m4\u001b[39;49;00m].reshape(-\u001b[94m1\u001b[39;49;00m, \u001b[94m1\u001b[39;49;00m))\u001b[90m\u001b[39;49;00m\n",
            ">       \u001b[94massert\u001b[39;49;00m mean_absolute_error(init_data[\u001b[94m5\u001b[39;49;00m], y_pred) <= \u001b[94m2\u001b[39;49;00m\u001b[90m\u001b[39;49;00m\n",
            "\u001b[1m\u001b[31mE       assert 5.792626940334004 <= 2\u001b[0m\n",
            "\u001b[1m\u001b[31mE        +  where 5.792626940334004 = mean_absolute_error(array([50.52068064, 50.68946144, 49.50405963, 49.35502764, 50.07065496,\\n       51.09306302, 50.4352125 , 50.32591288, 50.58121803, 51.0621392 ,\\n       51.53247294, 50.97746221, 51.23706023, 51.69857549, 52.04879933,\\n       50.77038179, 52.25116687, 52.46125391, 51.10001707, 50.92847684,\\n       52.73766056, 51.14644169, 51.31763783, 52.84600852, 52.07871159,\\n       52.33196797, 51.61946033, 51.71807104, 52.89794352, 52.50446929,\\n       79.62065419, 80.1128719 , 80.71509668, 79.71463496, 79.07207918,\\n       78.93150142, 80.25418205, 80.46035699, 79.78110467, 80.95705413,\\n       80.6151232 , 80.93227274, 82.09964675, 81.14358106, 81.76243613,\\n       82.37716273, 80.74166653, 81.16961868, 81.3876863 , 82.37353188,\\n       54.39636481, 54.54177493, 55.92331565, 55.69365329, 55.22237748,\\n       54.58006292, 55.87913192, 54.70008112, 55.22327218, 55.76275496,\\n       56.68416378, 57.03633685, 56.95537635, 56.96748264, 56.44020256,\\n       55.567693  , 55.79775746, 56.76757874, 56.32624188, 57.8337319 ,\\n       56.48380861, 57.52324154, 57.26202329, 57.18771014, 57.3422499 ,\\n       58.43789891, 57.70766582, 57.15706038, 57.46732842, 57.35899087,\\n       57.92919833, 58.56863686, 58.83848783, 57.5640369 , 58.17904803,\\n       58.10304084, 58.75052366, 59.47905512, 58.18987619, 59.53142384,\\n       58.32485316, 58.27067874, 59.96581123, 59.9571519 , 60.31637544,\\n       59.26144097, 59.68333131, 58.81468854, 59.63190671, 60.46680394]), array([49.8986234 , 49.9981348 , 50.0976462 , 50.1971576 , 50.296669  ,\\n       50.39618039, 50.49569179, 50.59520319, 50.69471459, 50.79422599,\\n       50.89373738, 50.99324878, 51.09276018, 51.19227158, 51.29178298,\\n       51.39129438, 51.49080577, 51.59031717, 51.68982857, 51.78933997,\\n       51.88885137, 51.98836276, 52.08787416, 52.18738556, 52.28689696,\\n       52.38640836, 52.48591975, 52.58543115, 52.68494255, 52.78445395,\\n       52.88396535, 52.98347674, 53.08298814, 53.18249954, 53.28201094,\\n       53.38152234, 53.48103374, 53.58054513, 53.68005653, 53.77956793,\\n       53.87907933, 53.97859073, 54.07810212, 54.17761352, 54.27712492,\\n       54.37663632, 54.47614772, 54.57565911, 54.67517051, 54.77468191,\\n       54.87419331, 54.97370471, 55.0732161 , 55.1727275 , 55.2722389 ,\\n       55.3717503 , 55.4712617 , 55.5707731 , 55.67028449, 55.76979589,\\n       55.86930729, 55.96881869, 56.06833009, 56.16784148, 56.26735288,\\n       56.36686428, 56.46637568, 56.56588708, 56.66539847, 56.76490987,\\n       56.86442127, 56.96393267, 57.06344407, 57.16295546, 57.26246686,\\n       57.36197826, 57.46148966, 57.56100106, 57.66051246, 57.76002385,\\n       57.85953525, 57.95904665, 58.05855805, 58.15806945, 58.25758084,\\n       58.35709224, 58.45660364, 58.55611504, 58.65562644, 58.75513783,\\n       58.85464923, 58.95416063, 59.05367203, 59.15318343, 59.25269482,\\n       59.35220622, 59.45171762, 59.55122902, 59.65074042, 59.75025182]))\u001b[0m\n",
            "\n",
            "\u001b[1m\u001b[31mtest1.py\u001b[0m:37: AssertionError\n",
            "\u001b[36m\u001b[1m=========================== short test summary info ============================\u001b[0m\n",
            "\u001b[31mFAILED\u001b[0m test1.py::\u001b[1mtest3\u001b[0m - assert 5.792626940334004 <= 2\n",
            "\u001b[31m========================= \u001b[31m\u001b[1m1 failed\u001b[0m, \u001b[32m2 passed\u001b[0m\u001b[31m in 1.26s\u001b[0m\u001b[31m ==========================\u001b[0m\n"
          ]
        }
      ]
    }
  ]
}